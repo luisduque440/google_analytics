{
 "cells": [
  {
   "cell_type": "code",
   "execution_count": 1,
   "metadata": {},
   "outputs": [],
   "source": [
    "import datetime as dt\n",
    "import matplotlib\n",
    "import numpy as np\n",
    "from analytics import *\n",
    "import pandas as pd\n",
    "import numpy as np\n",
    "from sklearn.model_selection import GridSearchCV\n",
    "from sklearn.ensemble import RandomForestRegressor\n",
    "pd.set_option('display.max_columns', 150)\n",
    "pd.set_option('display.max_rows', 150)"
   ]
  },
  {
   "cell_type": "code",
   "execution_count": null,
   "metadata": {},
   "outputs": [],
   "source": [
    "%%time\n",
    "train= pd.read_csv(\"train_features.csv\", low_memory=False, index_col= 'fullVisitorId')\n",
    "validation= pd.read_csv(\"validation_features.csv\", low_memory=False, index_col= 'fullVisitorId')\n",
    "test= pd.read_csv(\"test_features.csv\", low_memory=False, index_col= 'fullVisitorId')"
   ]
  },
  {
   "cell_type": "code",
   "execution_count": null,
   "metadata": {},
   "outputs": [],
   "source": [
    "features = list(train.columns)\n",
    "features.remove('target')\n",
    "\n",
    "columns_with_6_months = [c for c in features if \"6_months\" in c]\n",
    "columns_without_months = [c for c in features if \"months\" not in c]\n",
    "\n",
    "few_features = columns_without_months\n",
    "more_features = columns_without_months + columns_with_6_months \n",
    "all_features = features"
   ]
  },
  {
   "cell_type": "code",
   "execution_count": null,
   "metadata": {},
   "outputs": [],
   "source": [
    "relevant_columns = all_features\n",
    "\n",
    "train = train[relevant_columns + ['target']]\n",
    "validation = validation[relevant_columns + ['target']]\n",
    "test = test[relevant_columns] \n",
    "\n",
    "X_train = train.drop(columns=['target'])\n",
    "y_train = train.target\n",
    "\n",
    "X_validation = validation.drop(columns=['target'])\n",
    "y_validation = validation.target"
   ]
  },
  {
   "cell_type": "code",
   "execution_count": null,
   "metadata": {},
   "outputs": [],
   "source": [
    "%%time\n",
    "parameters = {\n",
    "    'min_samples_leaf' : [100, 1000, 2000],\n",
    "    'max_depth': [50,100, 200],\n",
    "    'n_estimators': [100, 200],   \n",
    "    'max_features': ['sqrt']\n",
    "}\n",
    "\n",
    "regr = RandomForestRegressor(criterion='mse')\n",
    "grid = GridSearchCV(regr, parameters, cv=3, scoring='neg_mean_squared_error', return_train_score=True)\n",
    "grid.fit(X_train, y_train)\n",
    "model = grid.best_estimator_"
   ]
  },
  {
   "cell_type": "code",
   "execution_count": null,
   "metadata": {},
   "outputs": [],
   "source": [
    "mean_test_scores = (-1)*grid.cv_results_['mean_test_score']\n",
    "mean_train_scores = (-1)*grid.cv_results_['mean_train_score']\n",
    "A =pd.DataFrame({'mean_test_scores':mean_test_scores, 'mean_train_scores':mean_train_scores})\n",
    "A.plot()"
   ]
  },
  {
   "cell_type": "code",
   "execution_count": null,
   "metadata": {},
   "outputs": [],
   "source": [
    "print \"croos validation score\", grid.best_score_\n",
    "print \"best parameters:\"\n",
    "print grid.best_params_"
   ]
  },
  {
   "cell_type": "code",
   "execution_count": null,
   "metadata": {},
   "outputs": [],
   "source": [
    "print \"feature importance\"\n",
    "feature_importance = pd.DataFrame({'feature': X_train.columns, 'importance':model.feature_importances_}).set_index('feature').sort_values(by=['importance'], ascending=False)\n",
    "feature_importance[feature_importance.importance>0].plot.bar(figsize=(15,5))"
   ]
  },
  {
   "cell_type": "code",
   "execution_count": null,
   "metadata": {},
   "outputs": [],
   "source": [
    "get_validation_report(model, X_train, y_train, X_validation, y_validation)"
   ]
  },
  {
   "cell_type": "code",
   "execution_count": null,
   "metadata": {},
   "outputs": [],
   "source": [
    "print \"Features not used by the model: \"\n",
    "print list(feature_importance[feature_importance.importance==0].index.values)"
   ]
  },
  {
   "cell_type": "code",
   "execution_count": null,
   "metadata": {},
   "outputs": [],
   "source": [
    "## retrain model for submision\n",
    "file_name = \"results_random_forest_all_features_2.csv\"\n",
    "\n",
    "X = pd.concat([X_train, X_validation], ignore_index=True)\n",
    "y = pd.concat([y_train, y_validation], ignore_index=True)\n",
    "grid.fit(X, y)\n",
    "y_predicted = grid.predict(test)\n",
    "test['PredictedLogRevenue']= list(y_predicted)\n",
    "results = test[['PredictedLogRevenue']].reset_index()\n",
    "results.to_csv(file_name, float_format='%.12f', index=False)"
   ]
  }
 ],
 "metadata": {
  "kernelspec": {
   "display_name": "Python 2",
   "language": "python",
   "name": "python2"
  },
  "language_info": {
   "codemirror_mode": {
    "name": "ipython",
    "version": 2
   },
   "file_extension": ".py",
   "mimetype": "text/x-python",
   "name": "python",
   "nbconvert_exporter": "python",
   "pygments_lexer": "ipython2",
   "version": "2.7.15"
  }
 },
 "nbformat": 4,
 "nbformat_minor": 2
}
