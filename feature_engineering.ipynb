{
 "cells": [
  {
   "cell_type": "markdown",
   "metadata": {},
   "source": [
    "## Feature Engineering\n",
    "Documentation: https://support.google.com/analytics/answer/3437719?hl=en\n",
    "\n",
    "Note: the field 'unique_visit_id' should be unique but is not (around 1800 repeated unique_visit_id's):\n",
    "\n",
    "trainCSV['unique_visit_id'] = trainCSV.fullVisitorId +'_'+ trainCSV.visitId.apply(str)"
   ]
  },
  {
   "cell_type": "code",
   "execution_count": 1,
   "metadata": {},
   "outputs": [],
   "source": [
    "import matplotlib\n",
    "import datetime as dt\n",
    "import numpy as np\n",
    "from data_wrangling import *\n",
    "import pandas as pd\n",
    "import numpy as np\n",
    "pd.set_option('display.max_columns', 150)"
   ]
  },
  {
   "cell_type": "code",
   "execution_count": 2,
   "metadata": {},
   "outputs": [
    {
     "name": "stdout",
     "output_type": "stream",
     "text": [
      "CPU times: user 59.1 s, sys: 4.37 s, total: 1min 3s\n",
      "Wall time: 1min 3s\n"
     ]
    }
   ],
   "source": [
    "%%time\n",
    "trainCSV = pd.read_csv('train_v2_flat.csv', sep=',', encoding='utf-8', low_memory=False).drop(columns=['trafficSource_campaignCode'])\n",
    "testCSV = pd.read_csv('test_v2_flat.csv', sep=',', encoding='utf-8', low_memory=False)\n",
    "\n",
    "trainCSV = fill_empty_values(trainCSV)\n",
    "testCSV = fill_empty_values(testCSV)"
   ]
  },
  {
   "cell_type": "code",
   "execution_count": 5,
   "metadata": {},
   "outputs": [],
   "source": [
    "start_validation_visits = trainCSV.date.max() - timedelta(days=276)\n",
    "end_validation_visits = trainCSV.date.max()\n",
    "\n",
    "start_train_visits = start_validation_visits - timedelta(days=276)\n",
    "end_train_visits = start_validation_visits\n",
    "\n",
    "start_encoding_visits = trainCSV.date.min()\n",
    "end_encoding_visits = start_train_visits\n",
    "\n",
    "encoding_visits = get_visits_from_time_period(trainCSV, start_encoding_visits, end_encoding_visits)\n",
    "train_visits = get_visits_from_time_period(trainCSV, start_train_visits, end_train_visits)\n",
    "validation_visits = get_visits_from_time_period(trainCSV, start_validation_visits, end_validation_visits)\n",
    "test_visits =testCSV"
   ]
  },
  {
   "cell_type": "code",
   "execution_count": 12,
   "metadata": {},
   "outputs": [
    {
     "data": {
      "text/plain": [
       "<matplotlib.axes._subplots.AxesSubplot at 0x1a18269c90>"
      ]
     },
     "execution_count": 12,
     "metadata": {},
     "output_type": "execute_result"
    },
    {
     "data": {
      "image/png": "[encoded data removed]",
      "text/plain": [
       "<Figure size 1080x360 with 1 Axes>"
      ]
     },
     "metadata": {},
     "output_type": "display_data"
    }
   ],
   "source": [
    "encoding_visits.date.hist(bins=10, figsize=(15, 5))\n",
    "train_visits.date.hist(bins=30, figsize=(15, 5))\n",
    "validation_visits.date.hist(bins=30, figsize=(15, 5))\n",
    "test_visits.date.hist(bins=20, figsize=(15, 5))"
   ]
  },
  {
   "cell_type": "code",
   "execution_count": 7,
   "metadata": {},
   "outputs": [
    {
     "name": "stdout",
     "output_type": "stream",
     "text": [
      "2016-10-26 00:00:00\n",
      "len(all_training_periods) 1\n",
      "2017-07-29 00:00:00\n",
      "len(all_training_periods) 1\n",
      "CPU times: user 44.8 s, sys: 3.49 s, total: 48.3 s\n",
      "Wall time: 48.6 s\n"
     ]
    }
   ],
   "source": [
    "%%time\n",
    "train = get_training_data_from_visits(train_visits)\n",
    "validation = get_training_data_from_visits(validation_visits)\n",
    "test = create_features(test_visits).reset_index()"
   ]
  },
  {
   "cell_type": "code",
   "execution_count": 8,
   "metadata": {},
   "outputs": [
    {
     "name": "stdout",
     "output_type": "stream",
     "text": [
      "CPU times: user 4min 8s, sys: 5.09 s, total: 4min 13s\n",
      "Wall time: 5min 50s\n"
     ]
    }
   ],
   "source": [
    "%%time\n",
    "encoder = CategoricalEncoder().fit(encoding_visits)\n",
    "train_e = encoder.transform(train)\n",
    "validation_e = encoder.transform(validation)\n",
    "test_e = encoder.transform(test)"
   ]
  },
  {
   "cell_type": "code",
   "execution_count": 10,
   "metadata": {},
   "outputs": [
    {
     "name": "stdout",
     "output_type": "stream",
     "text": [
      "CPU times: user 48.1 s, sys: 1.16 s, total: 49.3 s\n",
      "Wall time: 49.5 s\n"
     ]
    }
   ],
   "source": [
    "%%time\n",
    "train_e.to_csv(\"train_features.csv\", index=False)\n",
    "validation_e.to_csv(\"validation_features.csv\", index=False)\n",
    "test_e.to_csv(\"test_features.csv\", index=False)"
   ]
  }
 ],
 "metadata": {
  "kernelspec": {
   "display_name": "Python 2",
   "language": "python",
   "name": "python2"
  },
  "language_info": {
   "codemirror_mode": {
    "name": "ipython",
    "version": 2
   },
   "file_extension": ".py",
   "mimetype": "text/x-python",
   "name": "python",
   "nbconvert_exporter": "python",
   "pygments_lexer": "ipython2",
   "version": "2.7.15"
  }
 },
 "nbformat": 4,
 "nbformat_minor": 2
}
