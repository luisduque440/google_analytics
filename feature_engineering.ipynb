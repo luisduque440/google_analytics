{
 "cells": [
  {
   "cell_type": "markdown",
   "metadata": {},
   "source": [
    "## Feature Engineering"
   ]
  },
  {
   "cell_type": "code",
   "execution_count": null,
   "metadata": {},
   "outputs": [],
   "source": [
    "import datetime as dt\n",
    "from datetime import timedelta\n",
    "import numpy as np\n",
    "import pandas as pd\n",
    "from data_wrangling import restrict_df_to_time_period\n",
    "from data_wrangling import get_training_data_from_visits\n",
    "from data_wrangling import fill_empty_values\n",
    "from data_wrangling import create_features\n",
    "from data_wrangling import CategoricalEncoder"
   ]
  },
  {
   "cell_type": "code",
   "execution_count": null,
   "metadata": {},
   "outputs": [],
   "source": [
    "trainCSV = pd.read_csv('train_v2_flat.csv', sep=',', encoding='utf-8', low_memory=False).drop(columns=['trafficSource_campaignCode'])\n",
    "testCSV = pd.read_csv('test_v2_flat.csv', sep=',', encoding='utf-8', low_memory=False)\n",
    "\n",
    "trainCSV = fill_empty_values(trainCSV)\n",
    "testCSV = fill_empty_values(testCSV)"
   ]
  },
  {
   "cell_type": "code",
   "execution_count": null,
   "metadata": {},
   "outputs": [],
   "source": [
    "start_validation_visits = trainCSV.date.max() - timedelta(days=276)\n",
    "end_validation_visits = trainCSV.date.max()\n",
    "\n",
    "start_train_visits = start_validation_visits - timedelta(days=276)\n",
    "end_train_visits = start_validation_visits\n",
    "\n",
    "start_encoding_visits = trainCSV.date.min()\n",
    "end_encoding_visits = start_train_visits\n",
    "\n",
    "encoding_visits = restrict_df_to_time_period(trainCSV, start_encoding_visits, end_encoding_visits)\n",
    "train_visits = restrict_df_to_time_period(trainCSV, start_train_visits, end_train_visits)\n",
    "validation_visits = restrict_df_to_time_period(trainCSV, start_validation_visits, end_validation_visits)\n",
    "test_visits =testCSV"
   ]
  },
  {
   "cell_type": "code",
   "execution_count": null,
   "metadata": {},
   "outputs": [],
   "source": [
    "train = get_training_data_from_visits(train_visits)\n",
    "validation = get_training_data_from_visits(validation_visits)\n",
    "test = create_features(test_visits).reset_index()\n",
    "\n",
    "encoder = CategoricalEncoder().fit(encoding_visits)\n",
    "train_e = encoder.transform(train)\n",
    "validation_e = encoder.transform(validation)\n",
    "test_e = encoder.transform(test)\n",
    "\n",
    "train_e.to_csv(\"train_features.csv\", index=False)\n",
    "validation_e.to_csv(\"validation_features.csv\", index=False)\n",
    "test_e.to_csv(\"test_features.csv\", index=False)"
   ]
  }
 ],
 "metadata": {
  "kernelspec": {
   "display_name": "Python 2",
   "language": "python",
   "name": "python2"
  },
  "language_info": {
   "codemirror_mode": {
    "name": "ipython",
    "version": 2
   },
   "file_extension": ".py",
   "mimetype": "text/x-python",
   "name": "python",
   "nbconvert_exporter": "python",
   "pygments_lexer": "ipython2",
   "version": "2.7.15"
  }
 },
 "nbformat": 4,
 "nbformat_minor": 2
}
