{
 "cells": [
  {
   "cell_type": "code",
   "execution_count": 1,
   "metadata": {},
   "outputs": [],
   "source": [
    "import datetime as dt\n",
    "import matplotlib\n",
    "import numpy as np\n",
    "from analytics import *\n",
    "import pandas as pd\n",
    "import numpy as np\n",
    "from sklearn.model_selection import GridSearchCV\n",
    "from xgboost import XGBClassifier\n",
    "pd.set_option('display.max_columns', 150)\n",
    "pd.set_option('display.max_rows', 150)"
   ]
  },
  {
   "cell_type": "code",
   "execution_count": 2,
   "metadata": {},
   "outputs": [
    {
     "name": "stdout",
     "output_type": "stream",
     "text": [
      "CPU times: user 33.2 s, sys: 2.6 s, total: 35.8 s\n",
      "Wall time: 35.9 s\n"
     ]
    }
   ],
   "source": [
    "%%time\n",
    "train= pd.read_csv(\"train_features.csv\", low_memory=False, index_col= 'fullVisitorId')\n",
    "validation= pd.read_csv(\"validation_features.csv\", low_memory=False, index_col= 'fullVisitorId')\n",
    "test= pd.read_csv(\"test_features.csv\", low_memory=False, index_col= 'fullVisitorId')"
   ]
  },
  {
   "cell_type": "code",
   "execution_count": 3,
   "metadata": {},
   "outputs": [],
   "source": [
    "features = list(train.columns)\n",
    "features.remove('target')\n",
    "\n",
    "columns_with_6_months = [c for c in features if \"6_months\" in c]\n",
    "columns_without_months = [c for c in features if \"months\" not in c]\n",
    "\n",
    "few_features = columns_without_months\n",
    "more_features = columns_without_months + columns_with_6_months \n",
    "all_features = features"
   ]
  },
  {
   "cell_type": "code",
   "execution_count": 4,
   "metadata": {},
   "outputs": [],
   "source": [
    "relevant_columns = few_features\n",
    "\n",
    "train = train[relevant_columns + ['target']]\n",
    "validation = validation[relevant_columns + ['target']]\n",
    "test = test[relevant_columns] \n",
    "\n",
    "\n",
    "X_train = train.drop(columns=['target'])\n",
    "y_train = train.target\n",
    "\n",
    "X_validation = validation.drop(columns=['target'])\n",
    "y_validation = validation.target"
   ]
  },
  {
   "cell_type": "code",
   "execution_count": 5,
   "metadata": {},
   "outputs": [
    {
     "name": "stdout",
     "output_type": "stream",
     "text": [
      "CPU times: user 1h 27min 46s, sys: 10.8 s, total: 1h 27min 57s\n",
      "Wall time: 1h 31min 9s\n"
     ]
    }
   ],
   "source": [
    "%%time\n",
    "parameters = {\n",
    "    'max_depth':[5, 20],    \n",
    "    'n_estimators': [50, 100], \n",
    "    'min_child_weight' : [100, 1000], \n",
    "}\n",
    "regr = XGBClassifier()\n",
    "grid = GridSearchCV(regr, parameters, cv=2, scoring='neg_mean_squared_error', return_train_score=True)\n",
    "grid.fit(X_train, y_train)\n",
    "model = grid.best_estimator_"
   ]
  },
  {
   "cell_type": "code",
   "execution_count": 6,
   "metadata": {},
   "outputs": [
    {
     "data": {
      "text/plain": [
       "<matplotlib.axes._subplots.AxesSubplot at 0x1a169bcb90>"
      ]
     },
     "execution_count": 6,
     "metadata": {},
     "output_type": "execute_result"
    }
   ],
   "source": [
    "mean_test_scores = (-1)*grid.cv_results_['mean_test_score']\n",
    "mean_train_scores = (-1)*grid.cv_results_['mean_train_score']\n",
    "A =pd.DataFrame({'mean_test_scores':mean_test_scores, 'mean_train_scores':mean_train_scores})\n",
    "A.plot()"
   ]
  },
  {
   "cell_type": "code",
   "execution_count": 7,
   "metadata": {},
   "outputs": [
    {
     "name": "stdout",
     "output_type": "stream",
     "text": [
      "croos validation score -0.10311962540846611\n",
      "best parameters:\n",
      "{'n_estimators': 50, 'max_depth': 5, 'min_child_weight': 100}\n"
     ]
    }
   ],
   "source": [
    "print \"croos validation score\", grid.best_score_\n",
    "print \"best parameters:\"\n",
    "print grid.best_params_"
   ]
  },
  {
   "cell_type": "code",
   "execution_count": 8,
   "metadata": {},
   "outputs": [
    {
     "name": "stdout",
     "output_type": "stream",
     "text": [
      "feature importance\n"
     ]
    },
    {
     "data": {
      "text/plain": [
       "<matplotlib.axes._subplots.AxesSubplot at 0x1a171df090>"
      ]
     },
     "execution_count": 8,
     "metadata": {},
     "output_type": "execute_result"
    },
    {
     "data": {
      "image/png": "[encoded data removed]",
      "text/plain": [
       "<Figure size 1080x360 with 1 Axes>"
      ]
     },
     "metadata": {},
     "output_type": "display_data"
    }
   ],
   "source": [
    "print \"feature importance\"\n",
    "feature_importance = pd.DataFrame({'feature': X_train.columns, 'importance':model.feature_importances_}).set_index('feature').sort_values(by=['importance'], ascending=False)\n",
    "feature_importance[feature_importance.importance>0].plot.bar(figsize=(15,5))"
   ]
  },
  {
   "cell_type": "code",
   "execution_count": 9,
   "metadata": {},
   "outputs": [
    {
     "data": {
      "text/html": [
       "<div>\n",
       "<style scoped>\n",
       "    .dataframe tbody tr th:only-of-type {\n",
       "        vertical-align: middle;\n",
       "    }\n",
       "\n",
       "    .dataframe tbody tr th {\n",
       "        vertical-align: top;\n",
       "    }\n",
       "\n",
       "    .dataframe thead th {\n",
       "        text-align: right;\n",
       "    }\n",
       "</style>\n",
       "<table border=\"1\" class=\"dataframe\">\n",
       "  <thead>\n",
       "    <tr style=\"text-align: right;\">\n",
       "      <th></th>\n",
       "      <th>train_benchamrk</th>\n",
       "      <th>train_improvement</th>\n",
       "      <th>train_mse</th>\n",
       "      <th>validation_benchmark</th>\n",
       "      <th>validation_improvement</th>\n",
       "      <th>validation_mse</th>\n",
       "    </tr>\n",
       "  </thead>\n",
       "  <tbody>\n",
       "    <tr>\n",
       "      <th>0</th>\n",
       "      <td>0.10312</td>\n",
       "      <td>0.0</td>\n",
       "      <td>0.10312</td>\n",
       "      <td>0.110465</td>\n",
       "      <td>0.0</td>\n",
       "      <td>0.110465</td>\n",
       "    </tr>\n",
       "  </tbody>\n",
       "</table>\n",
       "</div>"
      ],
      "text/plain": [
       "   train_benchamrk  train_improvement  train_mse  validation_benchmark  \\\n",
       "0          0.10312                0.0    0.10312              0.110465   \n",
       "\n",
       "   validation_improvement  validation_mse  \n",
       "0                     0.0        0.110465  "
      ]
     },
     "execution_count": 9,
     "metadata": {},
     "output_type": "execute_result"
    }
   ],
   "source": [
    "get_validation_report(model, X_train, y_train, X_validation, y_validation)"
   ]
  },
  {
   "cell_type": "code",
   "execution_count": 10,
   "metadata": {},
   "outputs": [
    {
     "name": "stdout",
     "output_type": "stream",
     "text": [
      "Features not used by the model: \n",
      "['trafficSource_adwordsClickInfo.slot', 'trafficSource_medium', 'trafficSource_keyword', 'trafficSource_campaign', 'trafficSource_adContent', 'trafficSource_adwordsClickInfo.isVideoAd', 'trafficSource_adwordsClickInfo.gclId', 'trafficSource_adwordsClickInfo.adNetworkType', 'device_browser', 'geoNetwork_subContinent', 'geoNetwork_continent', 'trafficSource_source']\n"
     ]
    }
   ],
   "source": [
    "print \"Features not used by the model: \"\n",
    "print list(feature_importance[feature_importance.importance==0].index.values)"
   ]
  },
  {
   "cell_type": "code",
   "execution_count": 11,
   "metadata": {},
   "outputs": [
    {
     "ename": "SyntaxError",
     "evalue": "invalid syntax (<ipython-input-11-c395f2d89450>, line 6)",
     "output_type": "error",
     "traceback": [
      "\u001b[0;36m  File \u001b[0;32m\"<ipython-input-11-c395f2d89450>\"\u001b[0;36m, line \u001b[0;32m6\u001b[0m\n\u001b[0;31m    regr = XGBClassifier(max_depth = , n_estimators=, min_child_weight=)\u001b[0m\n\u001b[0m                                     ^\u001b[0m\n\u001b[0;31mSyntaxError\u001b[0m\u001b[0;31m:\u001b[0m invalid syntax\n"
     ]
    }
   ],
   "source": [
    "## retrain model for submision\n",
    "file_name = \"results_xgboost_few_features.csv\"\n",
    "\n",
    "X = pd.concat([X_train, X_validation], ignore_index=True)\n",
    "y = pd.concat([y_train, y_validation], ignore_index=True)\n",
    "regr = XGBClassifier(max_depth = , n_estimators=, min_child_weight=)\n",
    "regr.fit(X, y)\n",
    "y_predicted = regr.predict(test)\n",
    "test['PredictedLogRevenue']= list(y_predicted)\n",
    "results = test[['PredictedLogRevenue']].reset_index()\n",
    "results.to_csv(file_name, float_format='%.12f', index=False)"
   ]
  },
  {
   "cell_type": "code",
   "execution_count": null,
   "metadata": {},
   "outputs": [],
   "source": []
  }
 ],
 "metadata": {
  "kernelspec": {
   "display_name": "Python 2",
   "language": "python",
   "name": "python2"
  },
  "language_info": {
   "codemirror_mode": {
    "name": "ipython",
    "version": 2
   },
   "file_extension": ".py",
   "mimetype": "text/x-python",
   "name": "python",
   "nbconvert_exporter": "python",
   "pygments_lexer": "ipython2",
   "version": "2.7.15"
  }
 },
 "nbformat": 4,
 "nbformat_minor": 2
}
